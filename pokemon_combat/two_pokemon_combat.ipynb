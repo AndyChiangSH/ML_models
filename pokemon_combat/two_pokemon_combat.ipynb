{
 "cells": [
  {
   "cell_type": "code",
   "execution_count": null,
   "source": [
    "# 引用必要模組\r\n",
    "import numpy as np\r\n",
    "import pandas as pd\r\n",
    "from tensorflow import keras"
   ],
   "outputs": [],
   "metadata": {}
  },
  {
   "cell_type": "code",
   "execution_count": null,
   "source": [
    "# 載入寶可夢資料\r\n",
    "pokemon_df = pd.read_csv(\"pokemon.csv\")\r\n",
    "pokemon_df"
   ],
   "outputs": [],
   "metadata": {
    "scrolled": true
   }
  },
  {
   "cell_type": "code",
   "execution_count": null,
   "source": [
    "pokemon_df = pokemon_df.set_index(\"#\")"
   ],
   "outputs": [],
   "metadata": {}
  },
  {
   "cell_type": "code",
   "execution_count": null,
   "source": [
    "pokemon_df[\"Type 2\"].fillna(\"empty\", inplace=True)\r\n",
    "pokemon_df[\"Type 1\"] = pokemon_df[\"Type 1\"].astype(\"category\")\r\n",
    "pokemon_df[\"Type 2\"] = pokemon_df[\"Type 2\"].astype(\"category\")\r\n",
    "pokemon_df[\"Legendary\"] = pokemon_df[\"Legendary\"].astype(\"int\")\r\n",
    "\r\n",
    "df_type1_onehot = pd.get_dummies(pokemon_df[\"Type 1\"])\r\n",
    "df_type2_onehot = pd.get_dummies(pokemon_df[\"Type 2\"])\r\n",
    "combine_df_onehot = df_type1_onehot.add(df_type2_onehot, fill_value=0).astype(\"int\")\r\n",
    "\r\n",
    "pd.options.display.max_columns = 30\r\n",
    "pokemon_df = pokemon_df.join(combine_df_onehot)\r\n",
    "\r\n",
    "mean = pokemon_df.loc[:, \"HP\":\"Generation\"].mean()\r\n",
    "std = pokemon_df.loc[:, \"HP\":\"Generation\"].std()\r\n",
    "pokemon_df.loc[:, \"HP\":\"Generation\"] = (pokemon_df.loc[:, \"HP\":\"Generation\"] - mean) / std\r\n",
    "\r\n",
    "# print(pokemon_df.dtypes)\r\n",
    "# pokemon_df.head()"
   ],
   "outputs": [],
   "metadata": {}
  },
  {
   "cell_type": "code",
   "execution_count": null,
   "source": [
    "# 載入模型\r\n",
    "model_2 = keras.models.load_model(\"logs/models/best-model-2.h5\")"
   ],
   "outputs": [],
   "metadata": {}
  },
  {
   "cell_type": "code",
   "execution_count": null,
   "source": [
    "# 隨機抽樣兩個數字(0~799)\r\n",
    "two_pokemon = np.random.choice(np.arange(800), size=2, replace=True)\r\n",
    "\r\n",
    "first_pokemon = two_pokemon[0]+1\r\n",
    "second_pokemon = two_pokemon[1]+1\r\n",
    "\r\n",
    "first_pokemon_name = pokemon_df.loc[first_pokemon, \"Name\"]\r\n",
    "second_pokemon_name = pokemon_df.loc[second_pokemon, \"Name\"]\r\n",
    "\r\n",
    "first_pokemon_data = np.array(pokemon_df.loc[first_pokemon, \"HP\":]).astype(\"float64\")\r\n",
    "second_pokemon_data = np.array(pokemon_df.loc[second_pokemon, \"HP\":]).astype(\"float64\")\r\n",
    "\r\n",
    "first_pokemon_data = np.expand_dims(first_pokemon_data, axis=0)\r\n",
    "second_pokemon_data = np.expand_dims(second_pokemon_data, axis=0)"
   ],
   "outputs": [],
   "metadata": {}
  },
  {
   "cell_type": "code",
   "execution_count": null,
   "source": [
    "# 預測兩隻寶可夢的對戰勝率\r\n",
    "pred = model_2.predict(np.concatenate([first_pokemon_data, second_pokemon_data], axis=-1))\r\n",
    "winner = first_pokemon_name if pred < 0.5 else second_pokemon_name\r\n",
    "\r\n",
    "# 印出對戰結果\r\n",
    "print(f\"{first_pokemon_name}({first_pokemon}) vs. {second_pokemon_name}({second_pokemon})\")\r\n",
    "print(\"pred={:.6f}, winner is {}!\".format(pred[0][0], winner))"
   ],
   "outputs": [],
   "metadata": {}
  },
  {
   "cell_type": "code",
   "execution_count": null,
   "source": [],
   "outputs": [],
   "metadata": {}
  }
 ],
 "metadata": {
  "kernelspec": {
   "name": "python3",
   "display_name": "Python 3.8.8 64-bit ('tensorflowgpuenv': conda)"
  },
  "language_info": {
   "codemirror_mode": {
    "name": "ipython",
    "version": 3
   },
   "file_extension": ".py",
   "mimetype": "text/x-python",
   "name": "python",
   "nbconvert_exporter": "python",
   "pygments_lexer": "ipython3",
   "version": "3.8.8"
  },
  "interpreter": {
   "hash": "79a42983d900be3799fc5a021c2b0b91f836c503db16dadd34fd99c4de241b9f"
  }
 },
 "nbformat": 4,
 "nbformat_minor": 5
}
{
 "cells": [
  {
   "cell_type": "code",
   "execution_count": null,
   "id": "940d326f",
   "metadata": {},
   "outputs": [],
   "source": [
    "# 引用必要模組\n",
    "import numpy as np\n",
    "import pandas as pd\n",
    "from tensorflow import keras"
   ]
  },
  {
   "cell_type": "code",
   "execution_count": null,
   "id": "ab3272ee",
   "metadata": {
    "scrolled": true
   },
   "outputs": [],
   "source": [
    "# 載入寶可夢資料\n",
    "pokemon_df = pd.read_csv(\"pokemon.csv\")\n",
    "pokemon_df"
   ]
  },
  {
   "cell_type": "code",
   "execution_count": null,
   "id": "1c31cd17",
   "metadata": {},
   "outputs": [],
   "source": [
    "pokemon_df = pokemon_df.set_index(\"#\")"
   ]
  },
  {
   "cell_type": "code",
   "execution_count": null,
   "id": "33540754",
   "metadata": {},
   "outputs": [],
   "source": [
    "pokemon_df[\"Type 2\"].fillna(\"empty\", inplace=True)\n",
    "pokemon_df[\"Type 1\"] = pokemon_df[\"Type 1\"].astype(\"category\")\n",
    "pokemon_df[\"Type 2\"] = pokemon_df[\"Type 2\"].astype(\"category\")\n",
    "pokemon_df[\"Legendary\"] = pokemon_df[\"Legendary\"].astype(\"int\")\n",
    "\n",
    "df_type1_onehot = pd.get_dummies(pokemon_df[\"Type 1\"])\n",
    "df_type2_onehot = pd.get_dummies(pokemon_df[\"Type 2\"])\n",
    "combine_df_onehot = df_type1_onehot.add(df_type2_onehot, fill_value=0).astype(\"int\")\n",
    "\n",
    "pd.options.display.max_columns = 30\n",
    "pokemon_df = pokemon_df.join(combine_df_onehot)\n",
    "\n",
    "mean = pokemon_df.loc[:, \"HP\":\"Generation\"].mean()\n",
    "std = pokemon_df.loc[:, \"HP\":\"Generation\"].std()\n",
    "pokemon_df.loc[:, \"HP\":\"Generation\"] = (pokemon_df.loc[:, \"HP\":\"Generation\"] - mean) / std\n",
    "\n",
    "# print(pokemon_df.dtypes)\n",
    "# pokemon_df.head()"
   ]
  },
  {
   "cell_type": "code",
   "execution_count": null,
   "id": "4de38f96",
   "metadata": {},
   "outputs": [],
   "source": [
    "# 載入模型\n",
    "model_2 = keras.models.load_model(\"logs/models/best-model-2.h5\")"
   ]
  },
  {
   "cell_type": "code",
   "execution_count": null,
   "id": "1b10db6c",
   "metadata": {},
   "outputs": [],
   "source": [
    "# 隨機抽樣兩個數字(0~799)\n",
    "two_pokemon = np.random.choice(np.arange(800), size=2, replace=True)\n",
    "\n",
    "first_pokemon = two_pokemon[0]+1\n",
    "second_pokemon = two_pokemon[1]+1\n",
    "\n",
    "first_pokemon_name = pokemon_df.loc[first_pokemon, \"Name\"]\n",
    "second_pokemon_name = pokemon_df.loc[second_pokemon, \"Name\"]\n",
    "\n",
    "first_pokemon_data = np.array(pokemon_df.loc[first_pokemon, \"HP\":]).astype(\"float64\")\n",
    "second_pokemon_data = np.array(pokemon_df.loc[second_pokemon, \"HP\":]).astype(\"float64\")\n",
    "\n",
    "first_pokemon_data = np.expand_dims(first_pokemon_data, axis=0)\n",
    "second_pokemon_data = np.expand_dims(second_pokemon_data, axis=0)"
   ]
  },
  {
   "cell_type": "code",
   "execution_count": null,
   "id": "2f22dee0",
   "metadata": {},
   "outputs": [],
   "source": [
    "# 預測兩隻寶可夢的對戰勝率\n",
    "pred = model_2.predict(np.concatenate([first_pokemon_data, second_pokemon_data], axis=-1))\n",
    "winner = first_pokemon_name if pred < 0.5 else second_pokemon_name\n",
    "\n",
    "# 印出對戰結果\n",
    "print(f\"{first_pokemon_name}({first_pokemon}) vs. {second_pokemon_name}({second_pokemon})\")\n",
    "print(\"pred={:.6f}, winner is {}!\".format(pred[0][0], winner))"
   ]
  },
  {
   "cell_type": "code",
   "execution_count": null,
   "id": "40e89b6f",
   "metadata": {},
   "outputs": [],
   "source": []
  }
 ],
 "metadata": {
  "kernelspec": {
   "display_name": "Python 3",
   "language": "python",
   "name": "python3"
  },
  "language_info": {
   "codemirror_mode": {
    "name": "ipython",
    "version": 3
   },
   "file_extension": ".py",
   "mimetype": "text/x-python",
   "name": "python",
   "nbconvert_exporter": "python",
   "pygments_lexer": "ipython3",
   "version": "3.8.8"
  }
 },
 "nbformat": 4,
 "nbformat_minor": 5
}

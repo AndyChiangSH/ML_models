{
 "cells": [
  {
   "cell_type": "code",
   "execution_count": null,
   "source": [
    "import os\n",
    "import numpy as np\n",
    "import pandas as pd\n",
    "import tensorflow as tf\n",
    "import matplotlib.pyplot as plt\n",
    "from tensorflow import keras\n",
    "from tensorflow.keras import layers"
   ],
   "outputs": [],
   "metadata": {}
  },
  {
   "cell_type": "code",
   "execution_count": null,
   "source": [
    "pokemon_df = pd.read_csv(\"pokemon.csv\")\n",
    "pokemon_df.head()"
   ],
   "outputs": [],
   "metadata": {}
  },
  {
   "cell_type": "code",
   "execution_count": null,
   "source": [
    "pokemon_df = pokemon_df.set_index(\"#\")\n",
    "pokemon_df.head()"
   ],
   "outputs": [],
   "metadata": {}
  },
  {
   "cell_type": "code",
   "execution_count": null,
   "source": [
    "combats_df = pd.read_csv(\"combats.csv\")\n",
    "combats_df.head()"
   ],
   "outputs": [],
   "metadata": {}
  },
  {
   "cell_type": "code",
   "execution_count": null,
   "source": [
    "pokemon_df.info()"
   ],
   "outputs": [],
   "metadata": {}
  },
  {
   "cell_type": "code",
   "execution_count": null,
   "source": [
    "pokemon_df[\"Type 2\"].value_counts(dropna=False)"
   ],
   "outputs": [],
   "metadata": {}
  },
  {
   "cell_type": "code",
   "execution_count": null,
   "source": [
    "pokemon_df[\"Type 2\"].fillna(\"empty\", inplace=True)\n",
    "pokemon_df[\"Type 2\"].value_counts()"
   ],
   "outputs": [],
   "metadata": {}
  },
  {
   "cell_type": "code",
   "execution_count": null,
   "source": [
    "print(pokemon_df.dtypes)\n",
    "print(\"-\" * 30)\n",
    "print(combats_df.dtypes)"
   ],
   "outputs": [],
   "metadata": {}
  },
  {
   "cell_type": "code",
   "execution_count": null,
   "source": [
    "pokemon_df[\"Type 1\"] = pokemon_df[\"Type 1\"].astype(\"category\")\n",
    "pokemon_df[\"Type 2\"] = pokemon_df[\"Type 2\"].astype(\"category\")\n",
    "pokemon_df[\"Legendary\"] = pokemon_df[\"Legendary\"].astype(\"int\")\n",
    "print(pokemon_df.dtypes)"
   ],
   "outputs": [],
   "metadata": {}
  },
  {
   "cell_type": "code",
   "execution_count": null,
   "source": [
    "df_type1_onehot = pd.get_dummies(pokemon_df[\"Type 1\"])\n",
    "df_type1_onehot.head()"
   ],
   "outputs": [],
   "metadata": {}
  },
  {
   "cell_type": "code",
   "execution_count": null,
   "source": [
    "df_type2_onehot = pd.get_dummies(pokemon_df[\"Type 2\"])\n",
    "df_type2_onehot.head()"
   ],
   "outputs": [],
   "metadata": {}
  },
  {
   "cell_type": "code",
   "execution_count": null,
   "source": [
    "combine_df_onehot = df_type1_onehot.add(df_type2_onehot, fill_value=0).astype(\"int\")\n",
    "\n",
    "pd.options.display.max_columns = 30\n",
    "pokemon_df = pokemon_df.join(combine_df_onehot)\n",
    "pokemon_df.head()"
   ],
   "outputs": [],
   "metadata": {}
  },
  {
   "cell_type": "code",
   "execution_count": null,
   "source": [
    "dict(enumerate(pokemon_df[\"Type 1\"].cat.categories))"
   ],
   "outputs": [],
   "metadata": {}
  },
  {
   "cell_type": "code",
   "execution_count": null,
   "source": [
    "pokemon_df[\"Type 1\"].cat.codes.head(10)"
   ],
   "outputs": [],
   "metadata": {}
  },
  {
   "cell_type": "code",
   "execution_count": null,
   "source": [
    "pokemon_df[\"Type 1\"] = pokemon_df[\"Type 1\"].cat.codes\n",
    "pokemon_df[\"Type 2\"] = pokemon_df[\"Type 2\"].cat.codes\n",
    "pokemon_df.head()"
   ],
   "outputs": [],
   "metadata": {}
  },
  {
   "cell_type": "code",
   "execution_count": null,
   "source": [
    "pokemon_df.drop(\"Name\", axis=1, inplace=True)\n",
    "pokemon_df"
   ],
   "outputs": [],
   "metadata": {}
  },
  {
   "cell_type": "code",
   "execution_count": null,
   "source": [
    "combats_df[\"Winner\"] = combats_df.apply(lambda x: 0 if x.Winner == x.First_pokemon else 1, axis=1)\n",
    "combats_df.head()"
   ],
   "outputs": [],
   "metadata": {}
  },
  {
   "cell_type": "code",
   "execution_count": null,
   "source": [
    "data_num = combats_df.shape[0]\n",
    "indexes = np.random.permutation(data_num)\n",
    "\n",
    "train_indexes = indexes[:int(data_num*0.6)]\n",
    "val_indexes = indexes[int(data_num*0.6):int(data_num*0.8)]\n",
    "test_indexes = indexes[int(data_num*0.6):]\n",
    "\n",
    "train_data = combats_df.loc[train_indexes]\n",
    "val_data = combats_df.loc[val_indexes]\n",
    "test_data = combats_df.loc[test_indexes]"
   ],
   "outputs": [],
   "metadata": {}
  },
  {
   "cell_type": "code",
   "execution_count": null,
   "source": [
    "pokemon_df[\"Type 1\"] = pokemon_df[\"Type 1\"] / 19\n",
    "pokemon_df[\"Type 2\"] = pokemon_df[\"Type 2\"] / 19\n",
    "\n",
    "mean = pokemon_df.loc[:, \"HP\":\"Generation\"].mean()\n",
    "std = pokemon_df.loc[:, \"HP\":\"Generation\"].std()\n",
    "\n",
    "print(mean)\n",
    "print(std)\n",
    "\n",
    "pokemon_df.loc[:, \"HP\":\"Generation\"] = (pokemon_df.loc[:, \"HP\":\"Generation\"] - mean) / std\n",
    "pokemon_df.head()"
   ],
   "outputs": [],
   "metadata": {
    "scrolled": true
   }
  },
  {
   "cell_type": "code",
   "execution_count": null,
   "source": [
    "print(pokemon_df.loc[:, \"HP\":\"Generation\"].mean())\n",
    "print(pokemon_df.loc[:, \"HP\":\"Generation\"].std())"
   ],
   "outputs": [],
   "metadata": {
    "scrolled": true
   }
  },
  {
   "cell_type": "code",
   "execution_count": null,
   "source": [
    "x_train_index = np.array(train_data.drop(\"Winner\", axis=1))\r\n",
    "x_val_index = np.array(val_data.drop(\"Winner\", axis=1))\r\n",
    "x_test_index = np.array(test_data.drop(\"Winner\", axis=1))\r\n",
    "\r\n",
    "print(x_train_index)"
   ],
   "outputs": [],
   "metadata": {}
  },
  {
   "cell_type": "code",
   "execution_count": null,
   "source": [
    "y_train = np.array(train_data[\"Winner\"])\r\n",
    "y_val = np.array(val_data[\"Winner\"])\r\n",
    "y_test = np.array(test_data[\"Winner\"])\r\n",
    "\r\n",
    "print(y_train)"
   ],
   "outputs": [],
   "metadata": {}
  },
  {
   "cell_type": "markdown",
   "source": [
    "## 第一種：屬性以數值表示"
   ],
   "metadata": {}
  },
  {
   "cell_type": "code",
   "execution_count": null,
   "source": [
    "pokemon_data_normal = np.array(pokemon_df.loc[:, :\"Legendary\"])\r\n",
    "print(pokemon_data_normal.shape)\r\n",
    "\r\n",
    "x_train_normal = pokemon_data_normal[x_train_index-1].reshape((-1, 20))\r\n",
    "x_val_normal = pokemon_data_normal[x_val_index-1].reshape((-1, 20))\r\n",
    "x_test_normal = pokemon_data_normal[x_test_index-1].reshape((-1, 20))\r\n",
    "print(x_train_normal.shape)"
   ],
   "outputs": [],
   "metadata": {}
  },
  {
   "cell_type": "code",
   "execution_count": null,
   "source": [
    "inputs = keras.Input(shape=(20, ))\r\n",
    "x = layers.Dense(64, activation=\"relu\") (inputs)\r\n",
    "x = layers.Dropout(0.3) (x)\r\n",
    "x = layers.Dense(64, activation=\"relu\") (x)\r\n",
    "x = layers.Dropout(0.3) (x)\r\n",
    "x = layers.Dense(16, activation=\"relu\") (x)\r\n",
    "x = layers.Dropout(0.3) (x)\r\n",
    "outputs = layers.Dense(1, activation=\"sigmoid\") (x)\r\n",
    "\r\n",
    "model_1 = keras.Model(inputs, outputs, name=\"model-1\")\r\n",
    "model_1.summary()"
   ],
   "outputs": [],
   "metadata": {
    "scrolled": true
   }
  },
  {
   "cell_type": "code",
   "execution_count": null,
   "source": [
    "model_1.compile(keras.optimizers.Adam(), loss=keras.losses.BinaryCrossentropy(), metrics=[keras.metrics.BinaryAccuracy()])"
   ],
   "outputs": [],
   "metadata": {}
  },
  {
   "cell_type": "code",
   "execution_count": null,
   "source": [
    "model_dir = \"logs/models\"\r\n",
    "if not os.path.exists(model_dir):\r\n",
    "    print(\"new dir!\")\r\n",
    "    os.makedirs(model_dir)"
   ],
   "outputs": [],
   "metadata": {}
  },
  {
   "cell_type": "code",
   "execution_count": null,
   "source": [
    "log_dir = os.path.join(\"logs\", \"model-1\")\r\n",
    "\r\n",
    "model_cbk = keras.callbacks.TensorBoard(log_dir=log_dir)\r\n",
    "model_mckp = keras.callbacks.ModelCheckpoint(model_dir+\"/best-model-1.h5\", monitor=\"val_binary_accuracy\",\r\n",
    "                                             save_best_only=True, mode=\"max\")"
   ],
   "outputs": [],
   "metadata": {}
  },
  {
   "cell_type": "code",
   "execution_count": null,
   "source": [
    "history_1 = model_1.fit(x_train_normal, y_train, batch_size=64, epochs=200,\r\n",
    "                        validation_data=(x_val_normal, y_val), callbacks=[model_cbk, model_mckp])"
   ],
   "outputs": [],
   "metadata": {}
  },
  {
   "cell_type": "markdown",
   "source": [
    "## 第二種：屬性以one hot表示"
   ],
   "metadata": {}
  },
  {
   "cell_type": "code",
   "execution_count": null,
   "source": [
    "pokemon_data_onehot = np.array(pokemon_df.loc[:, \"HP\":])\r\n",
    "print(pokemon_data_onehot.shape)\r\n",
    "\r\n",
    "x_train_onehot = pokemon_data_onehot[x_train_index-1].reshape((-1, 54))\r\n",
    "x_val_onehot = pokemon_data_onehot[x_val_index-1].reshape((-1, 54))\r\n",
    "x_test_onehot = pokemon_data_onehot[x_test_index-1].reshape((-1, 54))\r\n",
    "print(x_train_onehot.shape)"
   ],
   "outputs": [],
   "metadata": {}
  },
  {
   "cell_type": "code",
   "execution_count": null,
   "source": [
    "inputs = keras.Input(shape=(54, ))\r\n",
    "x = layers.Dense(64, activation=\"relu\") (inputs)\r\n",
    "x = layers.Dropout(0.3) (x)\r\n",
    "x = layers.Dense(64, activation=\"relu\") (x)\r\n",
    "x = layers.Dropout(0.3) (x)\r\n",
    "x = layers.Dense(16, activation=\"relu\") (x)\r\n",
    "x = layers.Dropout(0.3) (x)\r\n",
    "outputs = layers.Dense(1, activation=\"sigmoid\") (x)\r\n",
    "\r\n",
    "model_2 = keras.Model(inputs, outputs, name=\"model-2\")\r\n",
    "model_2.summary()"
   ],
   "outputs": [],
   "metadata": {}
  },
  {
   "cell_type": "code",
   "execution_count": null,
   "source": [
    "model_2.compile(keras.optimizers.Adam(), loss=keras.losses.BinaryCrossentropy(), metrics=[keras.metrics.BinaryAccuracy()])"
   ],
   "outputs": [],
   "metadata": {}
  },
  {
   "cell_type": "code",
   "execution_count": null,
   "source": [
    "model_dir = \"logs/models\"\r\n",
    "if not os.path.exists(model_dir):\r\n",
    "    print(\"new dir!\")\r\n",
    "    os.makedirs(model_dir)"
   ],
   "outputs": [],
   "metadata": {}
  },
  {
   "cell_type": "code",
   "execution_count": null,
   "source": [
    "log_dir = os.path.join(\"logs\", \"model-2\")\r\n",
    "\r\n",
    "model_cbk = keras.callbacks.TensorBoard(log_dir=log_dir)\r\n",
    "model_mckp = keras.callbacks.ModelCheckpoint(model_dir+\"/best-model-2.h5\", monitor=\"val_binary_accuracy\",\r\n",
    "                                             save_best_only=True, mode=\"max\")"
   ],
   "outputs": [],
   "metadata": {}
  },
  {
   "cell_type": "code",
   "execution_count": null,
   "source": [
    "history_2 = model_2.fit(x_train_onehot, y_train, batch_size=64, epochs=200,\r\n",
    "                        validation_data=(x_val_onehot, y_val), callbacks=[model_cbk, model_mckp])"
   ],
   "outputs": [],
   "metadata": {
    "scrolled": true
   }
  },
  {
   "cell_type": "markdown",
   "source": [
    "## 比較兩種模型"
   ],
   "metadata": {}
  },
  {
   "cell_type": "code",
   "execution_count": null,
   "source": [
    "plt.plot(history_1.history[\"binary_accuracy\"], label=\"m1-train\")\r\n",
    "plt.plot(history_1.history[\"val_binary_accuracy\"], label=\"m1-val\")\r\n",
    "plt.plot(history_2.history[\"binary_accuracy\"], label=\"m2-train\")\r\n",
    "plt.plot(history_2.history[\"val_binary_accuracy\"], label=\"m2-train\")\r\n",
    "plt.title(\"Binary Accuracy\")\r\n",
    "plt.xlabel(\"epochs\")\r\n",
    "plt.ylabel(\"accuracy\")\r\n",
    "plt.legend()"
   ],
   "outputs": [],
   "metadata": {}
  },
  {
   "cell_type": "code",
   "execution_count": null,
   "source": [
    "model_1 = keras.models.load_model(model_dir+\"/best-model-1.h5\")\r\n",
    "model_2 = keras.models.load_model(model_dir+\"/best-model-2.h5\")\r\n",
    "\r\n",
    "scores_1 = model_1.evaluate(x_test_normal, y_test)\r\n",
    "scores_2 = model_2.evaluate(x_test_onehot, y_test)\r\n",
    "print(f\"model-1 acc:\", scores_1[1])\r\n",
    "print(f\"model-2 acc:\", scores_2[1])"
   ],
   "outputs": [],
   "metadata": {}
  },
  {
   "cell_type": "markdown",
   "source": [
    "## 妙蛙花、噴火龍、水箭龜 大PK"
   ],
   "metadata": {}
  },
  {
   "cell_type": "code",
   "execution_count": null,
   "source": [
    "venusaur = np.expand_dims(pokemon_data_onehot[3], axis=0)   # 妙蛙花\r\n",
    "charizard = np.expand_dims(pokemon_data_onehot[7], axis=0)  # 噴火龍\r\n",
    "blastoise = np.expand_dims(pokemon_data_onehot[12], axis=0) # 水箭龜\r\n",
    "\r\n",
    "pred = model_2.predict(np.concatenate([venusaur, charizard], axis=-1))\r\n",
    "winner = \"妙蛙花\" if pred < 0.5 else \"噴火龍\"\r\n",
    "print(f\"pred={pred}, winner is {winner}!\")\r\n",
    "\r\n",
    "pred = model_2.predict(np.concatenate([charizard, blastoise], axis=-1))\r\n",
    "winner = \"噴火龍\" if pred < 0.5 else \"水箭龜\"\r\n",
    "print(f\"pred={pred}, winner is {winner}!\")\r\n",
    "\r\n",
    "pred = model_2.predict(np.concatenate([venusaur, blastoise], axis=-1))\r\n",
    "winner = \"妙蛙花\" if pred < 0.5 else \"水箭龜\"\r\n",
    "print(f\"pred={pred}, winner is {winner}!\")"
   ],
   "outputs": [],
   "metadata": {
    "scrolled": true
   }
  },
  {
   "cell_type": "markdown",
   "source": [
    "## 隨機抽樣兩隻寶可夢對戰"
   ],
   "metadata": {}
  },
  {
   "cell_type": "code",
   "execution_count": null,
   "source": [
    "pokemon_info_df = pd.read_csv(\"pokemon.csv\")\r\n",
    "pokemon_info_df"
   ],
   "outputs": [],
   "metadata": {
    "scrolled": true
   }
  },
  {
   "cell_type": "code",
   "execution_count": null,
   "source": [
    "two_pokemon = np.random.choice(np.arange(800), size=2, replace=True)\r\n",
    "print(two_pokemon)\r\n",
    "\r\n",
    "first_pokemon = two_pokemon[0]\r\n",
    "second_pokemon = two_pokemon[1]"
   ],
   "outputs": [],
   "metadata": {}
  },
  {
   "cell_type": "code",
   "execution_count": null,
   "source": [
    "first_pokemon_name = pokemon_info_df.iloc[first_pokemon][\"Name\"]\r\n",
    "second_pokemon_name = pokemon_info_df.iloc[second_pokemon][\"Name\"]\r\n",
    "\r\n",
    "print(f\"{first_pokemon_name}({first_pokemon}) vs. {second_pokemon_name}({second_pokemon})\")\r\n",
    "\r\n",
    "first_pokemon_data = np.expand_dims(pokemon_data_onehot[first_pokemon], axis=0)   # 妙蛙花\r\n",
    "second_pokemon_data = np.expand_dims(pokemon_data_onehot[second_pokemon], axis=0)  # 噴火龍\r\n",
    "\r\n",
    "print(np.concatenate([first_pokemon_data, second_pokemon_data], axis=-1))\r\n",
    "\r\n",
    "pred = model_2.predict(np.concatenate([first_pokemon_data, second_pokemon_data], axis=-1))\r\n",
    "winner = first_pokemon_name if pred < 0.5 else second_pokemon_name\r\n",
    "print(\"pred={:.6f}, winner is {}!\".format(pred[0][0], winner))"
   ],
   "outputs": [],
   "metadata": {}
  }
 ],
 "metadata": {
  "kernelspec": {
   "display_name": "Python 3",
   "language": "python",
   "name": "python3"
  },
  "language_info": {
   "codemirror_mode": {
    "name": "ipython",
    "version": 3
   },
   "file_extension": ".py",
   "mimetype": "text/x-python",
   "name": "python",
   "nbconvert_exporter": "python",
   "pygments_lexer": "ipython3",
   "version": "3.8.8"
  }
 },
 "nbformat": 4,
 "nbformat_minor": 5
}